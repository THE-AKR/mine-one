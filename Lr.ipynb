{
 "cells": [
  {
   "cell_type": "code",
   "execution_count": 1,
   "id": "4d2734ba",
   "metadata": {},
   "outputs": [],
   "source": [
    "import pandas as pd\n",
    "import seaborn as sns\n",
    "import numpy as np \n"
   ]
  },
  {
   "cell_type": "code",
   "execution_count": 6,
   "id": "5534823f",
   "metadata": {},
   "outputs": [],
   "source": [
    "a={'x':[1,2,3,4,5],'y':[2,4,5,4,5]}"
   ]
  },
  {
   "cell_type": "code",
   "execution_count": 3,
   "id": "f4103c73",
   "metadata": {},
   "outputs": [
    {
     "data": {
      "text/plain": [
       "{'x': [1, 2, 3, 4, 5], 'y': [2, 4, 5, 4, 5]}"
      ]
     },
     "execution_count": 3,
     "metadata": {},
     "output_type": "execute_result"
    }
   ],
   "source": [
    "a"
   ]
  },
  {
   "cell_type": "code",
   "execution_count": 7,
   "id": "c10a619f",
   "metadata": {},
   "outputs": [],
   "source": [
    "df=pd.DataFrame(a)"
   ]
  },
  {
   "cell_type": "code",
   "execution_count": 10,
   "id": "c9f29044",
   "metadata": {},
   "outputs": [
    {
     "data": {
      "text/html": [
       "<div>\n",
       "<style scoped>\n",
       "    .dataframe tbody tr th:only-of-type {\n",
       "        vertical-align: middle;\n",
       "    }\n",
       "\n",
       "    .dataframe tbody tr th {\n",
       "        vertical-align: top;\n",
       "    }\n",
       "\n",
       "    .dataframe thead th {\n",
       "        text-align: right;\n",
       "    }\n",
       "</style>\n",
       "<table border=\"1\" class=\"dataframe\">\n",
       "  <thead>\n",
       "    <tr style=\"text-align: right;\">\n",
       "      <th></th>\n",
       "      <th>x</th>\n",
       "      <th>y</th>\n",
       "    </tr>\n",
       "  </thead>\n",
       "  <tbody>\n",
       "    <tr>\n",
       "      <th>0</th>\n",
       "      <td>1</td>\n",
       "      <td>2</td>\n",
       "    </tr>\n",
       "    <tr>\n",
       "      <th>1</th>\n",
       "      <td>2</td>\n",
       "      <td>4</td>\n",
       "    </tr>\n",
       "    <tr>\n",
       "      <th>2</th>\n",
       "      <td>3</td>\n",
       "      <td>5</td>\n",
       "    </tr>\n",
       "    <tr>\n",
       "      <th>3</th>\n",
       "      <td>4</td>\n",
       "      <td>4</td>\n",
       "    </tr>\n",
       "    <tr>\n",
       "      <th>4</th>\n",
       "      <td>5</td>\n",
       "      <td>5</td>\n",
       "    </tr>\n",
       "  </tbody>\n",
       "</table>\n",
       "</div>"
      ],
      "text/plain": [
       "   x  y\n",
       "0  1  2\n",
       "1  2  4\n",
       "2  3  5\n",
       "3  4  4\n",
       "4  5  5"
      ]
     },
     "execution_count": 10,
     "metadata": {},
     "output_type": "execute_result"
    }
   ],
   "source": [
    "df"
   ]
  },
  {
   "cell_type": "code",
   "execution_count": 8,
   "id": "9b8de113",
   "metadata": {},
   "outputs": [],
   "source": [
    "A=np.array(df)"
   ]
  },
  {
   "cell_type": "code",
   "execution_count": 9,
   "id": "dfbdffc0",
   "metadata": {},
   "outputs": [
    {
     "data": {
      "text/plain": [
       "{'x': [1, 2, 3, 4, 5], 'y': [2, 4, 5, 4, 5]}"
      ]
     },
     "execution_count": 9,
     "metadata": {},
     "output_type": "execute_result"
    }
   ],
   "source": [
    "a"
   ]
  },
  {
   "cell_type": "code",
   "execution_count": 28,
   "id": "094bac24",
   "metadata": {},
   "outputs": [
    {
     "name": "stdout",
     "output_type": "stream",
     "text": [
      "Mean of Columns\n",
      "[3.5        4.16666667]\n"
     ]
    }
   ],
   "source": [
    "# calculate the mean of each column\n",
    "M = np.mean(A.T, axis=1)\n",
    "print(\"Mean of Columns\")\n",
    "print(M)"
   ]
  },
  {
   "cell_type": "code",
   "execution_count": 29,
   "id": "61c4922f",
   "metadata": {},
   "outputs": [
    {
     "name": "stdout",
     "output_type": "stream",
     "text": [
      "[[-2.5        -2.16666667]\n",
      " [-1.5        -0.16666667]\n",
      " [-0.5         0.83333333]\n",
      " [ 0.5        -0.16666667]\n",
      " [ 1.5         0.83333333]\n",
      " [ 2.5         0.83333333]]\n"
     ]
    }
   ],
   "source": [
    "# center columns by subtracting column means\n",
    "C = A - M\n",
    "print(C)"
   ]
  },
  {
   "cell_type": "code",
   "execution_count": 31,
   "id": "fbebe63a",
   "metadata": {},
   "outputs": [
    {
     "name": "stdout",
     "output_type": "stream",
     "text": [
      "calculate covariance matrix of centered matrix\n",
      "[[3.5        1.7       ]\n",
      " [1.7        1.36666667]]\n"
     ]
    }
   ],
   "source": [
    "print(\"calculate covariance matrix of centered matrix\")\n",
    "V = np.cov(C.T)\n",
    "print(V)"
   ]
  },
  {
   "cell_type": "code",
   "execution_count": 56,
   "id": "9d897f0c",
   "metadata": {},
   "outputs": [],
   "source": [
    "v=1.7 #covariance\n"
   ]
  },
  {
   "cell_type": "code",
   "execution_count": 44,
   "id": "e182a4da",
   "metadata": {},
   "outputs": [],
   "source": [
    "variance=C**2"
   ]
  },
  {
   "cell_type": "code",
   "execution_count": 51,
   "id": "50a0e3b7",
   "metadata": {},
   "outputs": [
    {
     "data": {
      "text/plain": [
       "array([6.25, 2.25, 0.25, 0.25, 2.25, 6.25])"
      ]
     },
     "execution_count": 51,
     "metadata": {},
     "output_type": "execute_result"
    }
   ],
   "source": [
    "variance[:,0]"
   ]
  },
  {
   "cell_type": "code",
   "execution_count": 53,
   "id": "e1626365",
   "metadata": {},
   "outputs": [],
   "source": [
    "sum_x =sum(variance[:,0]) "
   ]
  },
  {
   "cell_type": "code",
   "execution_count": 54,
   "id": "41b52c38",
   "metadata": {},
   "outputs": [
    {
     "data": {
      "text/plain": [
       "17.5"
      ]
     },
     "execution_count": 54,
     "metadata": {},
     "output_type": "execute_result"
    }
   ],
   "source": [
    "sum_x"
   ]
  },
  {
   "cell_type": "code",
   "execution_count": 57,
   "id": "291a5aad",
   "metadata": {},
   "outputs": [],
   "source": [
    "m= v/sum_x"
   ]
  },
  {
   "cell_type": "code",
   "execution_count": 58,
   "id": "530ca688",
   "metadata": {},
   "outputs": [
    {
     "data": {
      "text/plain": [
       "0.09714285714285714"
      ]
     },
     "execution_count": 58,
     "metadata": {},
     "output_type": "execute_result"
    }
   ],
   "source": [
    "m"
   ]
  },
  {
   "cell_type": "code",
   "execution_count": 59,
   "id": "64a9b255",
   "metadata": {},
   "outputs": [],
   "source": [
    "#c=y_mean - m*x_mean\n",
    "c= 4.1- m*3.5"
   ]
  },
  {
   "cell_type": "code",
   "execution_count": 60,
   "id": "4cc3dd15",
   "metadata": {},
   "outputs": [
    {
     "data": {
      "text/plain": [
       "3.76"
      ]
     },
     "execution_count": 60,
     "metadata": {},
     "output_type": "execute_result"
    }
   ],
   "source": [
    "c"
   ]
  },
  {
   "cell_type": "code",
   "execution_count": null,
   "id": "87ba46aa",
   "metadata": {},
   "outputs": [],
   "source": [
    "#y=mx+c\n",
    "#y=0.0971x + 3.76"
   ]
  },
  {
   "cell_type": "code",
   "execution_count": 62,
   "id": "979ebc35",
   "metadata": {},
   "outputs": [
    {
     "data": {
      "text/plain": [
       "4.2457142857142856"
      ]
     },
     "execution_count": 62,
     "metadata": {},
     "output_type": "execute_result"
    }
   ],
   "source": [
    "y=m*5+c #[x=5]\n",
    "y"
   ]
  },
  {
   "cell_type": "code",
   "execution_count": 84,
   "id": "aacff8f1",
   "metadata": {},
   "outputs": [],
   "source": [
    "for i in range(df['x'].iloc[0]):\n",
    "    y_pred= m*df['x']+c"
   ]
  },
  {
   "cell_type": "code",
   "execution_count": 85,
   "id": "7a5d8529",
   "metadata": {},
   "outputs": [
    {
     "data": {
      "text/plain": [
       "0    3.857143\n",
       "1    3.954286\n",
       "2    4.051429\n",
       "3    4.148571\n",
       "4    4.245714\n",
       "5    4.342857\n",
       "Name: x, dtype: float64"
      ]
     },
     "execution_count": 85,
     "metadata": {},
     "output_type": "execute_result"
    }
   ],
   "source": [
    "y_pred"
   ]
  },
  {
   "cell_type": "code",
   "execution_count": 78,
   "id": "4c909aa7",
   "metadata": {},
   "outputs": [
    {
     "data": {
      "text/plain": [
       "0    1\n",
       "1    2\n",
       "2    3\n",
       "3    4\n",
       "4    5\n",
       "5    6\n",
       "Name: x, dtype: int64"
      ]
     },
     "execution_count": 78,
     "metadata": {},
     "output_type": "execute_result"
    }
   ],
   "source": [
    "df['x']"
   ]
  },
  {
   "cell_type": "code",
   "execution_count": 87,
   "id": "1d94afee",
   "metadata": {},
   "outputs": [],
   "source": [
    "y_y_diff=df['y']-y_pred"
   ]
  },
  {
   "cell_type": "code",
   "execution_count": 88,
   "id": "7a71ff7a",
   "metadata": {},
   "outputs": [
    {
     "data": {
      "text/plain": [
       "0   -1.857143\n",
       "1    0.045714\n",
       "2    0.948571\n",
       "3   -0.148571\n",
       "4    0.754286\n",
       "5    0.657143\n",
       "dtype: float64"
      ]
     },
     "execution_count": 88,
     "metadata": {},
     "output_type": "execute_result"
    }
   ],
   "source": [
    "y_y_diff"
   ]
  },
  {
   "cell_type": "code",
   "execution_count": 90,
   "id": "24f4860e",
   "metadata": {},
   "outputs": [],
   "source": [
    "e=y_y_diff**2"
   ]
  },
  {
   "cell_type": "code",
   "execution_count": 91,
   "id": "35c50c36",
   "metadata": {},
   "outputs": [
    {
     "data": {
      "text/plain": [
       "0    3.448980\n",
       "1    0.002090\n",
       "2    0.899788\n",
       "3    0.022073\n",
       "4    0.568947\n",
       "5    0.431837\n",
       "dtype: float64"
      ]
     },
     "execution_count": 91,
     "metadata": {},
     "output_type": "execute_result"
    }
   ],
   "source": [
    "e"
   ]
  },
  {
   "cell_type": "code",
   "execution_count": 92,
   "id": "88161611",
   "metadata": {},
   "outputs": [],
   "source": [
    "sse=sum(e)"
   ]
  },
  {
   "cell_type": "code",
   "execution_count": 93,
   "id": "173de736",
   "metadata": {},
   "outputs": [
    {
     "data": {
      "text/plain": [
       "5.373714285714285"
      ]
     },
     "execution_count": 93,
     "metadata": {},
     "output_type": "execute_result"
    }
   ],
   "source": [
    "sse"
   ]
  },
  {
   "cell_type": "code",
   "execution_count": 94,
   "id": "92a1a6af",
   "metadata": {},
   "outputs": [],
   "source": [
    "mse=sse/6"
   ]
  },
  {
   "cell_type": "code",
   "execution_count": 95,
   "id": "07d44c9d",
   "metadata": {},
   "outputs": [
    {
     "data": {
      "text/plain": [
       "0.8956190476190474"
      ]
     },
     "execution_count": 95,
     "metadata": {},
     "output_type": "execute_result"
    }
   ],
   "source": [
    "mse"
   ]
  },
  {
   "cell_type": "code",
   "execution_count": 97,
   "id": "454859c2",
   "metadata": {},
   "outputs": [],
   "source": [
    "rmse= mse**1/2"
   ]
  },
  {
   "cell_type": "code",
   "execution_count": 98,
   "id": "443f6d35",
   "metadata": {},
   "outputs": [
    {
     "data": {
      "text/plain": [
       "0.4478095238095237"
      ]
     },
     "execution_count": 98,
     "metadata": {},
     "output_type": "execute_result"
    }
   ],
   "source": [
    "rmse"
   ]
  },
  {
   "cell_type": "code",
   "execution_count": 120,
   "id": "1b03d194",
   "metadata": {},
   "outputs": [],
   "source": [
    "mid_tss=C[:,1]"
   ]
  },
  {
   "cell_type": "code",
   "execution_count": 126,
   "id": "ae172e50",
   "metadata": {},
   "outputs": [
    {
     "data": {
      "text/plain": [
       "6.833333333333332"
      ]
     },
     "execution_count": 126,
     "metadata": {},
     "output_type": "execute_result"
    }
   ],
   "source": [
    "tss_a=mid_tss**2\n",
    "tss=sum(tss_a)\n",
    "tss"
   ]
  },
  {
   "cell_type": "code",
   "execution_count": 129,
   "id": "0247dca8",
   "metadata": {},
   "outputs": [],
   "source": [
    "R_square= 1-sse/tss"
   ]
  },
  {
   "cell_type": "code",
   "execution_count": 130,
   "id": "a46342ce",
   "metadata": {},
   "outputs": [
    {
     "data": {
      "text/plain": [
       "0.213602787456446"
      ]
     },
     "execution_count": 130,
     "metadata": {},
     "output_type": "execute_result"
    }
   ],
   "source": [
    "R_square"
   ]
  },
  {
   "cell_type": "code",
   "execution_count": 132,
   "id": "09a96089",
   "metadata": {},
   "outputs": [
    {
     "data": {
      "text/plain": [
       "4.731428571428571"
      ]
     },
     "execution_count": 132,
     "metadata": {},
     "output_type": "execute_result"
    }
   ],
   "source": [
    "y=m*10+c\n",
    "y"
   ]
  },
  {
   "cell_type": "code",
   "execution_count": 133,
   "id": "879178b9",
   "metadata": {},
   "outputs": [],
   "source": [
    "a={'x':[95,85,80,70,60],'y':[85,95,70,65,70]}"
   ]
  },
  {
   "cell_type": "code",
   "execution_count": 134,
   "id": "ba2a6dcb",
   "metadata": {},
   "outputs": [
    {
     "data": {
      "text/plain": [
       "{'x': [95, 85, 80, 70, 60], 'y': [85, 95, 70, 65, 70]}"
      ]
     },
     "execution_count": 134,
     "metadata": {},
     "output_type": "execute_result"
    }
   ],
   "source": [
    "a"
   ]
  },
  {
   "cell_type": "code",
   "execution_count": 135,
   "id": "ceb1ad39",
   "metadata": {},
   "outputs": [],
   "source": [
    "df=pd.DataFrame(a)"
   ]
  },
  {
   "cell_type": "code",
   "execution_count": 136,
   "id": "65dc4652",
   "metadata": {},
   "outputs": [
    {
     "data": {
      "text/html": [
       "<div>\n",
       "<style scoped>\n",
       "    .dataframe tbody tr th:only-of-type {\n",
       "        vertical-align: middle;\n",
       "    }\n",
       "\n",
       "    .dataframe tbody tr th {\n",
       "        vertical-align: top;\n",
       "    }\n",
       "\n",
       "    .dataframe thead th {\n",
       "        text-align: right;\n",
       "    }\n",
       "</style>\n",
       "<table border=\"1\" class=\"dataframe\">\n",
       "  <thead>\n",
       "    <tr style=\"text-align: right;\">\n",
       "      <th></th>\n",
       "      <th>x</th>\n",
       "      <th>y</th>\n",
       "    </tr>\n",
       "  </thead>\n",
       "  <tbody>\n",
       "    <tr>\n",
       "      <th>0</th>\n",
       "      <td>95</td>\n",
       "      <td>85</td>\n",
       "    </tr>\n",
       "    <tr>\n",
       "      <th>1</th>\n",
       "      <td>85</td>\n",
       "      <td>95</td>\n",
       "    </tr>\n",
       "    <tr>\n",
       "      <th>2</th>\n",
       "      <td>80</td>\n",
       "      <td>70</td>\n",
       "    </tr>\n",
       "    <tr>\n",
       "      <th>3</th>\n",
       "      <td>70</td>\n",
       "      <td>65</td>\n",
       "    </tr>\n",
       "    <tr>\n",
       "      <th>4</th>\n",
       "      <td>60</td>\n",
       "      <td>70</td>\n",
       "    </tr>\n",
       "  </tbody>\n",
       "</table>\n",
       "</div>"
      ],
      "text/plain": [
       "    x   y\n",
       "0  95  85\n",
       "1  85  95\n",
       "2  80  70\n",
       "3  70  65\n",
       "4  60  70"
      ]
     },
     "execution_count": 136,
     "metadata": {},
     "output_type": "execute_result"
    }
   ],
   "source": [
    "df"
   ]
  },
  {
   "cell_type": "code",
   "execution_count": 137,
   "id": "e2c2020a",
   "metadata": {},
   "outputs": [],
   "source": [
    "A =np.array(df)"
   ]
  },
  {
   "cell_type": "code",
   "execution_count": 138,
   "id": "6c3a7e36",
   "metadata": {},
   "outputs": [
    {
     "data": {
      "text/plain": [
       "array([[95, 85],\n",
       "       [85, 95],\n",
       "       [80, 70],\n",
       "       [70, 65],\n",
       "       [60, 70]], dtype=int64)"
      ]
     },
     "execution_count": 138,
     "metadata": {},
     "output_type": "execute_result"
    }
   ],
   "source": [
    "A"
   ]
  },
  {
   "cell_type": "code",
   "execution_count": 139,
   "id": "da4fc0cc",
   "metadata": {},
   "outputs": [
    {
     "data": {
      "text/plain": [
       "array([78., 77.])"
      ]
     },
     "execution_count": 139,
     "metadata": {},
     "output_type": "execute_result"
    }
   ],
   "source": [
    "M= np.mean(A.T,axis=1)\n",
    "M"
   ]
  },
  {
   "cell_type": "code",
   "execution_count": 140,
   "id": "2c105e2a",
   "metadata": {},
   "outputs": [
    {
     "data": {
      "text/plain": [
       "array([[ 17.,   8.],\n",
       "       [  7.,  18.],\n",
       "       [  2.,  -7.],\n",
       "       [ -8., -12.],\n",
       "       [-18.,  -7.]])"
      ]
     },
     "execution_count": 140,
     "metadata": {},
     "output_type": "execute_result"
    }
   ],
   "source": [
    "C= A-M\n",
    "C"
   ]
  },
  {
   "cell_type": "code",
   "execution_count": 142,
   "id": "aae1ee2f",
   "metadata": {},
   "outputs": [
    {
     "data": {
      "text/plain": [
       "array([[182.5, 117.5],\n",
       "       [117.5, 157.5]])"
      ]
     },
     "execution_count": 142,
     "metadata": {},
     "output_type": "execute_result"
    }
   ],
   "source": [
    "V=np.cov(C.T)\n",
    "V"
   ]
  },
  {
   "cell_type": "code",
   "execution_count": 143,
   "id": "b24a8b66",
   "metadata": {},
   "outputs": [],
   "source": [
    "COvarinace=117.5\n"
   ]
  },
  {
   "cell_type": "code",
   "execution_count": 153,
   "id": "932f952c",
   "metadata": {},
   "outputs": [
    {
     "data": {
      "text/plain": [
       "array([289.,  49.,   4.,  64., 324.])"
      ]
     },
     "execution_count": 153,
     "metadata": {},
     "output_type": "execute_result"
    }
   ],
   "source": [
    "var=C[:,0]**2\n",
    "var"
   ]
  },
  {
   "cell_type": "code",
   "execution_count": 154,
   "id": "322d4015",
   "metadata": {},
   "outputs": [],
   "source": [
    "sum_of_c= sum(var)\n"
   ]
  },
  {
   "cell_type": "code",
   "execution_count": 155,
   "id": "9cf1ae40",
   "metadata": {},
   "outputs": [
    {
     "data": {
      "text/plain": [
       "730.0"
      ]
     },
     "execution_count": 155,
     "metadata": {},
     "output_type": "execute_result"
    }
   ],
   "source": [
    "sum_of_c"
   ]
  },
  {
   "cell_type": "code",
   "execution_count": 157,
   "id": "460aece9",
   "metadata": {},
   "outputs": [
    {
     "data": {
      "text/plain": [
       "0.16095890410958905"
      ]
     },
     "execution_count": 157,
     "metadata": {},
     "output_type": "execute_result"
    }
   ],
   "source": [
    "m=COvarinace/sum_of_c\n",
    "m"
   ]
  },
  {
   "cell_type": "code",
   "execution_count": 159,
   "id": "50653b1a",
   "metadata": {},
   "outputs": [],
   "source": [
    "#c=y_mean- mx \n",
    "\n",
    "y_mean=77\n",
    "x_mean=78"
   ]
  },
  {
   "cell_type": "code",
   "execution_count": 161,
   "id": "03592582",
   "metadata": {},
   "outputs": [
    {
     "data": {
      "text/plain": [
       "64.44520547945206"
      ]
     },
     "execution_count": 161,
     "metadata": {},
     "output_type": "execute_result"
    }
   ],
   "source": [
    "c=77-m*x_mean\n",
    "c"
   ]
  },
  {
   "cell_type": "code",
   "execution_count": 163,
   "id": "c36821de",
   "metadata": {},
   "outputs": [
    {
     "data": {
      "text/plain": [
       "76.51712328767124"
      ]
     },
     "execution_count": 163,
     "metadata": {},
     "output_type": "execute_result"
    }
   ],
   "source": [
    "y=m*75+c\n",
    "y"
   ]
  },
  {
   "cell_type": "code",
   "execution_count": 164,
   "id": "540d4cff",
   "metadata": {},
   "outputs": [],
   "source": [
    "for i in range(df['x'].iloc[0]):\n",
    "    y_pred= m*df['x']+c"
   ]
  },
  {
   "cell_type": "code",
   "execution_count": 165,
   "id": "489c2afd",
   "metadata": {},
   "outputs": [
    {
     "data": {
      "text/plain": [
       "0    79.736301\n",
       "1    78.126712\n",
       "2    77.321918\n",
       "3    75.712329\n",
       "4    74.102740\n",
       "Name: x, dtype: float64"
      ]
     },
     "execution_count": 165,
     "metadata": {},
     "output_type": "execute_result"
    }
   ],
   "source": [
    "y_pred"
   ]
  },
  {
   "cell_type": "code",
   "execution_count": null,
   "id": "f3537ad3",
   "metadata": {},
   "outputs": [],
   "source": []
  }
 ],
 "metadata": {
  "kernelspec": {
   "display_name": "Python 3",
   "language": "python",
   "name": "python3"
  },
  "language_info": {
   "codemirror_mode": {
    "name": "ipython",
    "version": 3
   },
   "file_extension": ".py",
   "mimetype": "text/x-python",
   "name": "python",
   "nbconvert_exporter": "python",
   "pygments_lexer": "ipython3",
   "version": "3.8.8"
  }
 },
 "nbformat": 4,
 "nbformat_minor": 5
}
