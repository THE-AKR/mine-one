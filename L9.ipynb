{
 "cells": [
  {
   "cell_type": "markdown",
   "id": "5a3426f8",
   "metadata": {},
   "source": [
    "# Implement Eigen values, Eigen Vectors, Rank , SVD , nullity"
   ]
  },
  {
   "cell_type": "code",
   "execution_count": 1,
   "id": "c207cf64",
   "metadata": {},
   "outputs": [],
   "source": [
    "import numpy as np\n",
    "import pandas as pd\n",
    "import seaborn as sns\n",
    "import matplotlib.pyplot as plt\n",
    "%matplotlib inline\n",
    "from numpy import array\n",
    "from numpy import mean\n",
    "from numpy import cov\n",
    "from numpy.linalg import eig\n",
    "from scipy.linalg import svd"
   ]
  },
  {
   "cell_type": "markdown",
   "id": "14f72126",
   "metadata": {},
   "source": [
    "## Eigen values and vectors\n"
   ]
  },
  {
   "cell_type": "code",
   "execution_count": 4,
   "id": "98c9eed1",
   "metadata": {},
   "outputs": [
    {
     "data": {
      "text/plain": [
       "matrix([[  5,   8,  16],\n",
       "        [  4,   1,   8],\n",
       "        [ -4,  -4, -11]])"
      ]
     },
     "execution_count": 4,
     "metadata": {},
     "output_type": "execute_result"
    }
   ],
   "source": [
    "a=np.matrix('5 8 16; 4 1 8; -4 -4 -11')\n",
    "a"
   ]
  },
  {
   "cell_type": "code",
   "execution_count": 5,
   "id": "18e67754",
   "metadata": {},
   "outputs": [
    {
     "name": "stdout",
     "output_type": "stream",
     "text": [
      "[[-0.81649658+0.j         -0.31924166+0.43269619j -0.31924166-0.43269619j]\n",
      " [-0.40824829+0.j          0.78143831+0.j          0.78143831-0.j        ]\n",
      " [ 0.40824829+0.j         -0.23109832-0.2163481j  -0.23109832+0.2163481j ]]\n",
      "\n",
      "[ 1.+0.00000000e+00j -3.+1.46298053e-15j -3.-1.46298053e-15j]\n"
     ]
    }
   ],
   "source": [
    "values,vectors=eig(a)\n",
    "print(vectors)\n",
    "print()\n",
    "print(values)"
   ]
  },
  {
   "cell_type": "code",
   "execution_count": 6,
   "id": "9017162a",
   "metadata": {},
   "outputs": [
    {
     "data": {
      "text/plain": [
       "matrix([[ 8, -8, -2],\n",
       "        [ 4, -3, -2],\n",
       "        [ 3, -4,  1]])"
      ]
     },
     "execution_count": 6,
     "metadata": {},
     "output_type": "execute_result"
    }
   ],
   "source": [
    "a=np.matrix('8 -8 -2; 4 -3 -2; 3 -4 1')\n",
    "a"
   ]
  },
  {
   "cell_type": "code",
   "execution_count": 7,
   "id": "9e496cd2",
   "metadata": {},
   "outputs": [
    {
     "name": "stdout",
     "output_type": "stream",
     "text": [
      "[[-0.74278135 -0.81649658 -0.80178373]\n",
      " [-0.55708601 -0.40824829 -0.53452248]\n",
      " [-0.37139068 -0.40824829 -0.26726124]]\n",
      "\n",
      "[1. 3. 2.]\n"
     ]
    }
   ],
   "source": [
    "values,vectors=eig(a)\n",
    "print(vectors)\n",
    "print()\n",
    "print(values)"
   ]
  },
  {
   "cell_type": "markdown",
   "id": "1baef08e",
   "metadata": {},
   "source": [
    "## SVD"
   ]
  },
  {
   "cell_type": "code",
   "execution_count": 9,
   "id": "73569d2c",
   "metadata": {},
   "outputs": [
    {
     "data": {
      "text/plain": [
       "matrix([[-1,  2,  2]])"
      ]
     },
     "execution_count": 9,
     "metadata": {},
     "output_type": "execute_result"
    }
   ],
   "source": [
    "a=np.matrix([-1,2,2])\n",
    "a"
   ]
  },
  {
   "cell_type": "code",
   "execution_count": 10,
   "id": "92f2aa8d",
   "metadata": {},
   "outputs": [
    {
     "data": {
      "text/plain": [
       "matrix([[-1],\n",
       "        [ 2],\n",
       "        [ 2]])"
      ]
     },
     "execution_count": 10,
     "metadata": {},
     "output_type": "execute_result"
    }
   ],
   "source": [
    "a.T"
   ]
  },
  {
   "cell_type": "code",
   "execution_count": 11,
   "id": "24e3ff94",
   "metadata": {},
   "outputs": [
    {
     "name": "stdout",
     "output_type": "stream",
     "text": [
      "[[-0.33333333  0.66666667  0.66666667]\n",
      " [ 0.66666667  0.66666667 -0.33333333]\n",
      " [ 0.66666667 -0.33333333  0.66666667]]\n",
      "[3.]\n",
      "[[1.]]\n"
     ]
    }
   ],
   "source": [
    "U, s, VT = svd(a.T)\n",
    "print(U)\n",
    "print(s)\n",
    "print(VT)"
   ]
  },
  {
   "cell_type": "markdown",
   "id": "7da911e0",
   "metadata": {},
   "source": [
    "## Rank and nullity"
   ]
  },
  {
   "cell_type": "code",
   "execution_count": 12,
   "id": "ebfc6857",
   "metadata": {},
   "outputs": [
    {
     "name": "stdout",
     "output_type": "stream",
     "text": [
      "Nullity :  2\n",
      "Rank :  2\n"
     ]
    }
   ],
   "source": [
    "from sympy import Matrix\n",
    "\n",
    "A = [[1,-3,-2,4], [1,-3,1,1], [0,0,-1,1]]\n",
    "\n",
    "A = Matrix(A)\n",
    "\n",
    "# Number of Columns\n",
    "NoC = A.shape[1]\n",
    "\n",
    "# Rank of A\n",
    "rank = A.rank()\n",
    "\n",
    "# Nullity of the Matrix\n",
    "nullity = NoC - rank\n",
    "\n",
    "print(\"Nullity : \", nullity)\n",
    "print(\"Rank : \",rank)"
   ]
  }
 ],
 "metadata": {
  "kernelspec": {
   "display_name": "Python 3",
   "language": "python",
   "name": "python3"
  },
  "language_info": {
   "codemirror_mode": {
    "name": "ipython",
    "version": 3
   },
   "file_extension": ".py",
   "mimetype": "text/x-python",
   "name": "python",
   "nbconvert_exporter": "python",
   "pygments_lexer": "ipython3",
   "version": "3.8.8"
  }
 },
 "nbformat": 4,
 "nbformat_minor": 5
}
