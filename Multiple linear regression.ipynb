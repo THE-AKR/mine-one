{
 "cells": [
  {
   "cell_type": "code",
   "execution_count": 1,
   "id": "07f59392",
   "metadata": {},
   "outputs": [],
   "source": [
    "import numpy as np\n",
    "import pandas as pd\n",
    "import seaborn as sns\n",
    "import matplotlib.pyplot as plt\n",
    "%matplotlib inline\n",
    "from numpy import array\n",
    "from numpy import mean\n",
    "import math"
   ]
  },
  {
   "cell_type": "code",
   "execution_count": 2,
   "id": "de4f6661",
   "metadata": {},
   "outputs": [
    {
     "data": {
      "text/html": [
       "<div>\n",
       "<style scoped>\n",
       "    .dataframe tbody tr th:only-of-type {\n",
       "        vertical-align: middle;\n",
       "    }\n",
       "\n",
       "    .dataframe tbody tr th {\n",
       "        vertical-align: top;\n",
       "    }\n",
       "\n",
       "    .dataframe thead th {\n",
       "        text-align: right;\n",
       "    }\n",
       "</style>\n",
       "<table border=\"1\" class=\"dataframe\">\n",
       "  <thead>\n",
       "    <tr style=\"text-align: right;\">\n",
       "      <th></th>\n",
       "      <th>x1</th>\n",
       "      <th>x2</th>\n",
       "      <th>y</th>\n",
       "    </tr>\n",
       "  </thead>\n",
       "  <tbody>\n",
       "    <tr>\n",
       "      <th>0</th>\n",
       "      <td>-1.0</td>\n",
       "      <td>-0.5</td>\n",
       "      <td>-1.947</td>\n",
       "    </tr>\n",
       "    <tr>\n",
       "      <th>1</th>\n",
       "      <td>-0.5</td>\n",
       "      <td>0.0</td>\n",
       "      <td>-0.391</td>\n",
       "    </tr>\n",
       "    <tr>\n",
       "      <th>2</th>\n",
       "      <td>1.0</td>\n",
       "      <td>2.0</td>\n",
       "      <td>6.047</td>\n",
       "    </tr>\n",
       "    <tr>\n",
       "      <th>3</th>\n",
       "      <td>2.0</td>\n",
       "      <td>0.5</td>\n",
       "      <td>4.527</td>\n",
       "    </tr>\n",
       "    <tr>\n",
       "      <th>4</th>\n",
       "      <td>2.5</td>\n",
       "      <td>-1.5</td>\n",
       "      <td>1.287</td>\n",
       "    </tr>\n",
       "    <tr>\n",
       "      <th>5</th>\n",
       "      <td>0.0</td>\n",
       "      <td>-2.0</td>\n",
       "      <td>-3.451</td>\n",
       "    </tr>\n",
       "  </tbody>\n",
       "</table>\n",
       "</div>"
      ],
      "text/plain": [
       "    x1   x2      y\n",
       "0 -1.0 -0.5 -1.947\n",
       "1 -0.5  0.0 -0.391\n",
       "2  1.0  2.0  6.047\n",
       "3  2.0  0.5  4.527\n",
       "4  2.5 -1.5  1.287\n",
       "5  0.0 -2.0 -3.451"
      ]
     },
     "execution_count": 2,
     "metadata": {},
     "output_type": "execute_result"
    }
   ],
   "source": [
    "x= {\"x1\":[-1.0,-0.5,1.0,2.0,2.5,0.0],\"x2\":[-0.5,0.0,2.0,0.5,-1.5,-2.0],\"y\":[-1.947,-0.391,6.047,4.527,1.287,-3.451]}\n",
    "df=pd.DataFrame(x)\n",
    "df"
   ]
  },
  {
   "cell_type": "code",
   "execution_count": 3,
   "id": "3299f0e3",
   "metadata": {},
   "outputs": [
    {
     "data": {
      "text/plain": [
       "array([ 0.66666667, -0.25      ,  1.012     ])"
      ]
     },
     "execution_count": 3,
     "metadata": {},
     "output_type": "execute_result"
    }
   ],
   "source": [
    "A=np.array(df)\n",
    "Mean = np.mean(A.T,axis=1)\n",
    "Mean"
   ]
  },
  {
   "cell_type": "code",
   "execution_count": 4,
   "id": "c5f0cff1",
   "metadata": {},
   "outputs": [
    {
     "name": "stdout",
     "output_type": "stream",
     "text": [
      "X1_mean :  0.6666666666666666\n",
      "x2_mean :  -0.25\n",
      "Y_mean :  1.0119999999999998\n"
     ]
    }
   ],
   "source": [
    "x1_mean=Mean[0]\n",
    "print(\"X1_mean : \" , x1_mean) \n",
    "x2_mean=Mean[1]\n",
    "print(\"x2_mean : \", x2_mean  )\n",
    "y_mean=Mean[2]\n",
    "print(\"Y_mean : \", y_mean  )"
   ]
  },
  {
   "cell_type": "code",
   "execution_count": 5,
   "id": "44b0dc41",
   "metadata": {},
   "outputs": [
    {
     "data": {
      "text/plain": [
       "array([[-1.66666667, -0.25      , -2.959     ],\n",
       "       [-1.16666667,  0.25      , -1.403     ],\n",
       "       [ 0.33333333,  2.25      ,  5.035     ],\n",
       "       [ 1.33333333,  0.75      ,  3.515     ],\n",
       "       [ 1.83333333, -1.25      ,  0.275     ],\n",
       "       [-0.66666667, -1.75      , -4.463     ]])"
      ]
     },
     "execution_count": 5,
     "metadata": {},
     "output_type": "execute_result"
    }
   ],
   "source": [
    "#Calculating the distance of x and y from the mean i.e x-X_mean and y-y_mean\n",
    "dist= A-Mean\n",
    "dist"
   ]
  },
  {
   "cell_type": "code",
   "execution_count": 6,
   "id": "28926b7a",
   "metadata": {},
   "outputs": [
    {
     "data": {
      "text/html": [
       "<div>\n",
       "<style scoped>\n",
       "    .dataframe tbody tr th:only-of-type {\n",
       "        vertical-align: middle;\n",
       "    }\n",
       "\n",
       "    .dataframe tbody tr th {\n",
       "        vertical-align: top;\n",
       "    }\n",
       "\n",
       "    .dataframe thead th {\n",
       "        text-align: right;\n",
       "    }\n",
       "</style>\n",
       "<table border=\"1\" class=\"dataframe\">\n",
       "  <thead>\n",
       "    <tr style=\"text-align: right;\">\n",
       "      <th></th>\n",
       "      <th>x1</th>\n",
       "      <th>x2</th>\n",
       "      <th>y</th>\n",
       "      <th>x1_min_x1_mean</th>\n",
       "    </tr>\n",
       "  </thead>\n",
       "  <tbody>\n",
       "    <tr>\n",
       "      <th>0</th>\n",
       "      <td>-1.0</td>\n",
       "      <td>-0.5</td>\n",
       "      <td>-1.947</td>\n",
       "      <td>-1.666667</td>\n",
       "    </tr>\n",
       "    <tr>\n",
       "      <th>1</th>\n",
       "      <td>-0.5</td>\n",
       "      <td>0.0</td>\n",
       "      <td>-0.391</td>\n",
       "      <td>-1.166667</td>\n",
       "    </tr>\n",
       "    <tr>\n",
       "      <th>2</th>\n",
       "      <td>1.0</td>\n",
       "      <td>2.0</td>\n",
       "      <td>6.047</td>\n",
       "      <td>0.333333</td>\n",
       "    </tr>\n",
       "    <tr>\n",
       "      <th>3</th>\n",
       "      <td>2.0</td>\n",
       "      <td>0.5</td>\n",
       "      <td>4.527</td>\n",
       "      <td>1.333333</td>\n",
       "    </tr>\n",
       "    <tr>\n",
       "      <th>4</th>\n",
       "      <td>2.5</td>\n",
       "      <td>-1.5</td>\n",
       "      <td>1.287</td>\n",
       "      <td>1.833333</td>\n",
       "    </tr>\n",
       "    <tr>\n",
       "      <th>5</th>\n",
       "      <td>0.0</td>\n",
       "      <td>-2.0</td>\n",
       "      <td>-3.451</td>\n",
       "      <td>-0.666667</td>\n",
       "    </tr>\n",
       "  </tbody>\n",
       "</table>\n",
       "</div>"
      ],
      "text/plain": [
       "    x1   x2      y  x1_min_x1_mean\n",
       "0 -1.0 -0.5 -1.947       -1.666667\n",
       "1 -0.5  0.0 -0.391       -1.166667\n",
       "2  1.0  2.0  6.047        0.333333\n",
       "3  2.0  0.5  4.527        1.333333\n",
       "4  2.5 -1.5  1.287        1.833333\n",
       "5  0.0 -2.0 -3.451       -0.666667"
      ]
     },
     "execution_count": 6,
     "metadata": {},
     "output_type": "execute_result"
    }
   ],
   "source": [
    "df['x1_min_x1_mean']=dist[:,0]\n",
    "df"
   ]
  },
  {
   "cell_type": "code",
   "execution_count": 7,
   "id": "db5795bd",
   "metadata": {},
   "outputs": [
    {
     "data": {
      "text/html": [
       "<div>\n",
       "<style scoped>\n",
       "    .dataframe tbody tr th:only-of-type {\n",
       "        vertical-align: middle;\n",
       "    }\n",
       "\n",
       "    .dataframe tbody tr th {\n",
       "        vertical-align: top;\n",
       "    }\n",
       "\n",
       "    .dataframe thead th {\n",
       "        text-align: right;\n",
       "    }\n",
       "</style>\n",
       "<table border=\"1\" class=\"dataframe\">\n",
       "  <thead>\n",
       "    <tr style=\"text-align: right;\">\n",
       "      <th></th>\n",
       "      <th>x1</th>\n",
       "      <th>x2</th>\n",
       "      <th>y</th>\n",
       "      <th>x1_min_x1_mean</th>\n",
       "      <th>x2_min_x2_mean</th>\n",
       "    </tr>\n",
       "  </thead>\n",
       "  <tbody>\n",
       "    <tr>\n",
       "      <th>0</th>\n",
       "      <td>-1.0</td>\n",
       "      <td>-0.5</td>\n",
       "      <td>-1.947</td>\n",
       "      <td>-1.666667</td>\n",
       "      <td>-0.25</td>\n",
       "    </tr>\n",
       "    <tr>\n",
       "      <th>1</th>\n",
       "      <td>-0.5</td>\n",
       "      <td>0.0</td>\n",
       "      <td>-0.391</td>\n",
       "      <td>-1.166667</td>\n",
       "      <td>0.25</td>\n",
       "    </tr>\n",
       "    <tr>\n",
       "      <th>2</th>\n",
       "      <td>1.0</td>\n",
       "      <td>2.0</td>\n",
       "      <td>6.047</td>\n",
       "      <td>0.333333</td>\n",
       "      <td>2.25</td>\n",
       "    </tr>\n",
       "    <tr>\n",
       "      <th>3</th>\n",
       "      <td>2.0</td>\n",
       "      <td>0.5</td>\n",
       "      <td>4.527</td>\n",
       "      <td>1.333333</td>\n",
       "      <td>0.75</td>\n",
       "    </tr>\n",
       "    <tr>\n",
       "      <th>4</th>\n",
       "      <td>2.5</td>\n",
       "      <td>-1.5</td>\n",
       "      <td>1.287</td>\n",
       "      <td>1.833333</td>\n",
       "      <td>-1.25</td>\n",
       "    </tr>\n",
       "    <tr>\n",
       "      <th>5</th>\n",
       "      <td>0.0</td>\n",
       "      <td>-2.0</td>\n",
       "      <td>-3.451</td>\n",
       "      <td>-0.666667</td>\n",
       "      <td>-1.75</td>\n",
       "    </tr>\n",
       "  </tbody>\n",
       "</table>\n",
       "</div>"
      ],
      "text/plain": [
       "    x1   x2      y  x1_min_x1_mean  x2_min_x2_mean\n",
       "0 -1.0 -0.5 -1.947       -1.666667           -0.25\n",
       "1 -0.5  0.0 -0.391       -1.166667            0.25\n",
       "2  1.0  2.0  6.047        0.333333            2.25\n",
       "3  2.0  0.5  4.527        1.333333            0.75\n",
       "4  2.5 -1.5  1.287        1.833333           -1.25\n",
       "5  0.0 -2.0 -3.451       -0.666667           -1.75"
      ]
     },
     "execution_count": 7,
     "metadata": {},
     "output_type": "execute_result"
    }
   ],
   "source": [
    "df['x2_min_x2_mean']=dist[:,1]\n",
    "df"
   ]
  },
  {
   "cell_type": "code",
   "execution_count": 8,
   "id": "00eb11ac",
   "metadata": {},
   "outputs": [
    {
     "data": {
      "text/html": [
       "<div>\n",
       "<style scoped>\n",
       "    .dataframe tbody tr th:only-of-type {\n",
       "        vertical-align: middle;\n",
       "    }\n",
       "\n",
       "    .dataframe tbody tr th {\n",
       "        vertical-align: top;\n",
       "    }\n",
       "\n",
       "    .dataframe thead th {\n",
       "        text-align: right;\n",
       "    }\n",
       "</style>\n",
       "<table border=\"1\" class=\"dataframe\">\n",
       "  <thead>\n",
       "    <tr style=\"text-align: right;\">\n",
       "      <th></th>\n",
       "      <th>x1</th>\n",
       "      <th>x2</th>\n",
       "      <th>y</th>\n",
       "      <th>x1_min_x1_mean</th>\n",
       "      <th>x2_min_x2_mean</th>\n",
       "      <th>y_min_y_mean</th>\n",
       "    </tr>\n",
       "  </thead>\n",
       "  <tbody>\n",
       "    <tr>\n",
       "      <th>0</th>\n",
       "      <td>-1.0</td>\n",
       "      <td>-0.5</td>\n",
       "      <td>-1.947</td>\n",
       "      <td>-1.666667</td>\n",
       "      <td>-0.25</td>\n",
       "      <td>-2.959</td>\n",
       "    </tr>\n",
       "    <tr>\n",
       "      <th>1</th>\n",
       "      <td>-0.5</td>\n",
       "      <td>0.0</td>\n",
       "      <td>-0.391</td>\n",
       "      <td>-1.166667</td>\n",
       "      <td>0.25</td>\n",
       "      <td>-1.403</td>\n",
       "    </tr>\n",
       "    <tr>\n",
       "      <th>2</th>\n",
       "      <td>1.0</td>\n",
       "      <td>2.0</td>\n",
       "      <td>6.047</td>\n",
       "      <td>0.333333</td>\n",
       "      <td>2.25</td>\n",
       "      <td>5.035</td>\n",
       "    </tr>\n",
       "    <tr>\n",
       "      <th>3</th>\n",
       "      <td>2.0</td>\n",
       "      <td>0.5</td>\n",
       "      <td>4.527</td>\n",
       "      <td>1.333333</td>\n",
       "      <td>0.75</td>\n",
       "      <td>3.515</td>\n",
       "    </tr>\n",
       "    <tr>\n",
       "      <th>4</th>\n",
       "      <td>2.5</td>\n",
       "      <td>-1.5</td>\n",
       "      <td>1.287</td>\n",
       "      <td>1.833333</td>\n",
       "      <td>-1.25</td>\n",
       "      <td>0.275</td>\n",
       "    </tr>\n",
       "    <tr>\n",
       "      <th>5</th>\n",
       "      <td>0.0</td>\n",
       "      <td>-2.0</td>\n",
       "      <td>-3.451</td>\n",
       "      <td>-0.666667</td>\n",
       "      <td>-1.75</td>\n",
       "      <td>-4.463</td>\n",
       "    </tr>\n",
       "  </tbody>\n",
       "</table>\n",
       "</div>"
      ],
      "text/plain": [
       "    x1   x2      y  x1_min_x1_mean  x2_min_x2_mean  y_min_y_mean\n",
       "0 -1.0 -0.5 -1.947       -1.666667           -0.25        -2.959\n",
       "1 -0.5  0.0 -0.391       -1.166667            0.25        -1.403\n",
       "2  1.0  2.0  6.047        0.333333            2.25         5.035\n",
       "3  2.0  0.5  4.527        1.333333            0.75         3.515\n",
       "4  2.5 -1.5  1.287        1.833333           -1.25         0.275\n",
       "5  0.0 -2.0 -3.451       -0.666667           -1.75        -4.463"
      ]
     },
     "execution_count": 8,
     "metadata": {},
     "output_type": "execute_result"
    }
   ],
   "source": [
    "df['y_min_y_mean']=dist[:,2]\n",
    "df"
   ]
  },
  {
   "cell_type": "code",
   "execution_count": 9,
   "id": "9d812bb5",
   "metadata": {},
   "outputs": [
    {
     "name": "stdout",
     "output_type": "stream",
     "text": [
      "0.6305000000000005\n"
     ]
    }
   ],
   "source": [
    "cov=sum(dist[:,0]*dist[:,1]*dist[:,2])\n",
    "print(cov)\n"
   ]
  },
  {
   "cell_type": "code",
   "execution_count": 10,
   "id": "cc7d419c",
   "metadata": {},
   "outputs": [
    {
     "name": "stdout",
     "output_type": "stream",
     "text": [
      "8.434027777777779\n"
     ]
    }
   ],
   "source": [
    "var=dist[:,0]*dist[:,0]*dist[:,1]*dist[:,1]   #Variance= Submission(x-x_mean)^2 , first square then do submission\n",
    "var=sum(var)\n",
    "print(var)"
   ]
  },
  {
   "cell_type": "code",
   "execution_count": 11,
   "id": "f2f18fd0",
   "metadata": {},
   "outputs": [
    {
     "name": "stdout",
     "output_type": "stream",
     "text": [
      "0.07475668999588313\n",
      "0.9964256895841908\n"
     ]
    }
   ],
   "source": [
    "m = cov/var\n",
    "print(m)\n",
    "#c= y_mean- m*x_mean\n",
    "c=y_mean-m*((x1_mean+x2_mean)/2)\n",
    "print(c)"
   ]
  },
  {
   "cell_type": "code",
   "execution_count": 13,
   "id": "2b083aca",
   "metadata": {},
   "outputs": [
    {
     "data": {
      "text/html": [
       "<div>\n",
       "<style scoped>\n",
       "    .dataframe tbody tr th:only-of-type {\n",
       "        vertical-align: middle;\n",
       "    }\n",
       "\n",
       "    .dataframe tbody tr th {\n",
       "        vertical-align: top;\n",
       "    }\n",
       "\n",
       "    .dataframe thead th {\n",
       "        text-align: right;\n",
       "    }\n",
       "</style>\n",
       "<table border=\"1\" class=\"dataframe\">\n",
       "  <thead>\n",
       "    <tr style=\"text-align: right;\">\n",
       "      <th></th>\n",
       "      <th>x1</th>\n",
       "      <th>x2</th>\n",
       "      <th>y</th>\n",
       "      <th>x1_min_x1_mean</th>\n",
       "      <th>x2_min_x2_mean</th>\n",
       "      <th>y_min_y_mean</th>\n",
       "      <th>y_pred</th>\n",
       "    </tr>\n",
       "  </thead>\n",
       "  <tbody>\n",
       "    <tr>\n",
       "      <th>0</th>\n",
       "      <td>-1.0</td>\n",
       "      <td>-0.5</td>\n",
       "      <td>-1.947</td>\n",
       "      <td>-1.666667</td>\n",
       "      <td>-0.25</td>\n",
       "      <td>-2.959</td>\n",
       "      <td>0.884291</td>\n",
       "    </tr>\n",
       "    <tr>\n",
       "      <th>1</th>\n",
       "      <td>-0.5</td>\n",
       "      <td>0.0</td>\n",
       "      <td>-0.391</td>\n",
       "      <td>-1.166667</td>\n",
       "      <td>0.25</td>\n",
       "      <td>-1.403</td>\n",
       "      <td>0.959047</td>\n",
       "    </tr>\n",
       "    <tr>\n",
       "      <th>2</th>\n",
       "      <td>1.0</td>\n",
       "      <td>2.0</td>\n",
       "      <td>6.047</td>\n",
       "      <td>0.333333</td>\n",
       "      <td>2.25</td>\n",
       "      <td>5.035</td>\n",
       "      <td>1.220696</td>\n",
       "    </tr>\n",
       "    <tr>\n",
       "      <th>3</th>\n",
       "      <td>2.0</td>\n",
       "      <td>0.5</td>\n",
       "      <td>4.527</td>\n",
       "      <td>1.333333</td>\n",
       "      <td>0.75</td>\n",
       "      <td>3.515</td>\n",
       "      <td>1.183317</td>\n",
       "    </tr>\n",
       "    <tr>\n",
       "      <th>4</th>\n",
       "      <td>2.5</td>\n",
       "      <td>-1.5</td>\n",
       "      <td>1.287</td>\n",
       "      <td>1.833333</td>\n",
       "      <td>-1.25</td>\n",
       "      <td>0.275</td>\n",
       "      <td>1.071182</td>\n",
       "    </tr>\n",
       "    <tr>\n",
       "      <th>5</th>\n",
       "      <td>0.0</td>\n",
       "      <td>-2.0</td>\n",
       "      <td>-3.451</td>\n",
       "      <td>-0.666667</td>\n",
       "      <td>-1.75</td>\n",
       "      <td>-4.463</td>\n",
       "      <td>0.846912</td>\n",
       "    </tr>\n",
       "  </tbody>\n",
       "</table>\n",
       "</div>"
      ],
      "text/plain": [
       "    x1   x2      y  x1_min_x1_mean  x2_min_x2_mean  y_min_y_mean    y_pred\n",
       "0 -1.0 -0.5 -1.947       -1.666667           -0.25        -2.959  0.884291\n",
       "1 -0.5  0.0 -0.391       -1.166667            0.25        -1.403  0.959047\n",
       "2  1.0  2.0  6.047        0.333333            2.25         5.035  1.220696\n",
       "3  2.0  0.5  4.527        1.333333            0.75         3.515  1.183317\n",
       "4  2.5 -1.5  1.287        1.833333           -1.25         0.275  1.071182\n",
       "5  0.0 -2.0 -3.451       -0.666667           -1.75        -4.463  0.846912"
      ]
     },
     "execution_count": 13,
     "metadata": {},
     "output_type": "execute_result"
    }
   ],
   "source": [
    "df[\"y_pred\"]=m*df['x1']+m*df['x2']+c\n",
    "df"
   ]
  },
  {
   "cell_type": "code",
   "execution_count": 14,
   "id": "1ba6abf3",
   "metadata": {},
   "outputs": [
    {
     "data": {
      "text/plain": [
       "0.9590473445862492"
      ]
     },
     "execution_count": 14,
     "metadata": {},
     "output_type": "execute_result"
    }
   ],
   "source": [
    "m*0.5+m*-1.0+c"
   ]
  },
  {
   "cell_type": "code",
   "execution_count": null,
   "id": "8380aac5",
   "metadata": {},
   "outputs": [],
   "source": []
  },
  {
   "cell_type": "code",
   "execution_count": null,
   "id": "741f862a",
   "metadata": {},
   "outputs": [],
   "source": []
  },
  {
   "cell_type": "code",
   "execution_count": null,
   "id": "0a715641",
   "metadata": {},
   "outputs": [],
   "source": []
  },
  {
   "cell_type": "code",
   "execution_count": null,
   "id": "dae2d9eb",
   "metadata": {},
   "outputs": [],
   "source": []
  },
  {
   "cell_type": "code",
   "execution_count": 15,
   "id": "9223e671",
   "metadata": {},
   "outputs": [
    {
     "data": {
      "text/html": [
       "<div>\n",
       "<style scoped>\n",
       "    .dataframe tbody tr th:only-of-type {\n",
       "        vertical-align: middle;\n",
       "    }\n",
       "\n",
       "    .dataframe tbody tr th {\n",
       "        vertical-align: top;\n",
       "    }\n",
       "\n",
       "    .dataframe thead th {\n",
       "        text-align: right;\n",
       "    }\n",
       "</style>\n",
       "<table border=\"1\" class=\"dataframe\">\n",
       "  <thead>\n",
       "    <tr style=\"text-align: right;\">\n",
       "      <th></th>\n",
       "      <th>x1</th>\n",
       "      <th>x2</th>\n",
       "      <th>y</th>\n",
       "    </tr>\n",
       "  </thead>\n",
       "  <tbody>\n",
       "    <tr>\n",
       "      <th>0</th>\n",
       "      <td>-1.0</td>\n",
       "      <td>-0.5</td>\n",
       "      <td>-1.947</td>\n",
       "    </tr>\n",
       "    <tr>\n",
       "      <th>1</th>\n",
       "      <td>-0.5</td>\n",
       "      <td>0.0</td>\n",
       "      <td>-0.391</td>\n",
       "    </tr>\n",
       "    <tr>\n",
       "      <th>2</th>\n",
       "      <td>1.0</td>\n",
       "      <td>2.0</td>\n",
       "      <td>6.047</td>\n",
       "    </tr>\n",
       "    <tr>\n",
       "      <th>3</th>\n",
       "      <td>2.0</td>\n",
       "      <td>0.5</td>\n",
       "      <td>4.527</td>\n",
       "    </tr>\n",
       "    <tr>\n",
       "      <th>4</th>\n",
       "      <td>2.5</td>\n",
       "      <td>-1.5</td>\n",
       "      <td>1.287</td>\n",
       "    </tr>\n",
       "    <tr>\n",
       "      <th>5</th>\n",
       "      <td>0.0</td>\n",
       "      <td>-2.0</td>\n",
       "      <td>-3.451</td>\n",
       "    </tr>\n",
       "  </tbody>\n",
       "</table>\n",
       "</div>"
      ],
      "text/plain": [
       "    x1   x2      y\n",
       "0 -1.0 -0.5 -1.947\n",
       "1 -0.5  0.0 -0.391\n",
       "2  1.0  2.0  6.047\n",
       "3  2.0  0.5  4.527\n",
       "4  2.5 -1.5  1.287\n",
       "5  0.0 -2.0 -3.451"
      ]
     },
     "execution_count": 15,
     "metadata": {},
     "output_type": "execute_result"
    }
   ],
   "source": [
    "x= {\"x1\":[-1.0,-0.5,1.0,2.0,2.5,0.0],\"x2\":[-0.5,0.0,2.0,0.5,-1.5,-2.0],\"y\":[-1.947,-0.391,6.047,4.527,1.287,-3.451]}\n",
    "df=pd.DataFrame(x)\n",
    "df"
   ]
  },
  {
   "cell_type": "code",
   "execution_count": null,
   "id": "2242e6d6",
   "metadata": {},
   "outputs": [],
   "source": []
  },
  {
   "cell_type": "code",
   "execution_count": 23,
   "id": "22a64ab2",
   "metadata": {},
   "outputs": [
    {
     "data": {
      "text/html": [
       "<div>\n",
       "<style scoped>\n",
       "    .dataframe tbody tr th:only-of-type {\n",
       "        vertical-align: middle;\n",
       "    }\n",
       "\n",
       "    .dataframe tbody tr th {\n",
       "        vertical-align: top;\n",
       "    }\n",
       "\n",
       "    .dataframe thead th {\n",
       "        text-align: right;\n",
       "    }\n",
       "</style>\n",
       "<table border=\"1\" class=\"dataframe\">\n",
       "  <thead>\n",
       "    <tr style=\"text-align: right;\">\n",
       "      <th></th>\n",
       "      <th>x1</th>\n",
       "      <th>x2</th>\n",
       "    </tr>\n",
       "  </thead>\n",
       "  <tbody>\n",
       "    <tr>\n",
       "      <th>0</th>\n",
       "      <td>-1.0</td>\n",
       "      <td>-0.5</td>\n",
       "    </tr>\n",
       "    <tr>\n",
       "      <th>1</th>\n",
       "      <td>-0.5</td>\n",
       "      <td>0.0</td>\n",
       "    </tr>\n",
       "    <tr>\n",
       "      <th>2</th>\n",
       "      <td>1.0</td>\n",
       "      <td>2.0</td>\n",
       "    </tr>\n",
       "    <tr>\n",
       "      <th>3</th>\n",
       "      <td>2.0</td>\n",
       "      <td>0.5</td>\n",
       "    </tr>\n",
       "    <tr>\n",
       "      <th>4</th>\n",
       "      <td>2.5</td>\n",
       "      <td>-1.5</td>\n",
       "    </tr>\n",
       "    <tr>\n",
       "      <th>5</th>\n",
       "      <td>0.0</td>\n",
       "      <td>-2.0</td>\n",
       "    </tr>\n",
       "  </tbody>\n",
       "</table>\n",
       "</div>"
      ],
      "text/plain": [
       "    x1   x2\n",
       "0 -1.0 -0.5\n",
       "1 -0.5  0.0\n",
       "2  1.0  2.0\n",
       "3  2.0  0.5\n",
       "4  2.5 -1.5\n",
       "5  0.0 -2.0"
      ]
     },
     "execution_count": 23,
     "metadata": {},
     "output_type": "execute_result"
    }
   ],
   "source": [
    "X=df.iloc[:,[0,1]]\n",
    "X"
   ]
  },
  {
   "cell_type": "code",
   "execution_count": 24,
   "id": "a5d2889f",
   "metadata": {},
   "outputs": [
    {
     "data": {
      "text/plain": [
       "0   -1.947\n",
       "1   -0.391\n",
       "2    6.047\n",
       "3    4.527\n",
       "4    1.287\n",
       "5   -3.451\n",
       "Name: y, dtype: float64"
      ]
     },
     "execution_count": 24,
     "metadata": {},
     "output_type": "execute_result"
    }
   ],
   "source": [
    "y=df.iloc[:,2]\n",
    "y"
   ]
  },
  {
   "cell_type": "code",
   "execution_count": 26,
   "id": "a923aaa1",
   "metadata": {},
   "outputs": [
    {
     "data": {
      "text/plain": [
       "LinearRegression()"
      ]
     },
     "execution_count": 26,
     "metadata": {},
     "output_type": "execute_result"
    }
   ],
   "source": [
    "  # Fitting Simple Linear Regression to the Training set\n",
    "from sklearn.linear_model import LinearRegression\n",
    "regressor = LinearRegression()\n",
    "regressor.fit(X, y)"
   ]
  },
  {
   "cell_type": "code",
   "execution_count": 28,
   "id": "1af95385",
   "metadata": {},
   "outputs": [
    {
     "name": "stdout",
     "output_type": "stream",
     "text": [
      "model coeff: 1.5170710472279259\n",
      "model intercept: 0.49899753593429175\n"
     ]
    }
   ],
   "source": [
    "print( \"model coeff:\", regressor.coef_[0])\n",
    "print (\"model intercept:\", regressor.intercept_)\n"
   ]
  },
  {
   "cell_type": "code",
   "execution_count": 36,
   "id": "06284051",
   "metadata": {},
   "outputs": [
    {
     "data": {
      "text/plain": [
       "array([-0.25953799, -0.49775893])"
      ]
     },
     "execution_count": 36,
     "metadata": {},
     "output_type": "execute_result"
    }
   ],
   "source": [
    "regressor.intercept_+(regressor.coef_*0.5+regressor.coef_*-1.0)"
   ]
  },
  {
   "cell_type": "code",
   "execution_count": 103,
   "id": "46dcc560",
   "metadata": {},
   "outputs": [
    {
     "data": {
      "text/plain": [
       "-0.7572969199999999"
      ]
     },
     "execution_count": 103,
     "metadata": {},
     "output_type": "execute_result"
    }
   ],
   "source": [
    "-0.25953799-0.49775893"
   ]
  },
  {
   "cell_type": "code",
   "execution_count": null,
   "id": "0f5fb868",
   "metadata": {},
   "outputs": [],
   "source": []
  },
  {
   "cell_type": "markdown",
   "id": "3c9a0c96",
   "metadata": {},
   "source": [
    "# Correct way"
   ]
  },
  {
   "cell_type": "code",
   "execution_count": 37,
   "id": "7a94a152",
   "metadata": {},
   "outputs": [
    {
     "data": {
      "text/html": [
       "<div>\n",
       "<style scoped>\n",
       "    .dataframe tbody tr th:only-of-type {\n",
       "        vertical-align: middle;\n",
       "    }\n",
       "\n",
       "    .dataframe tbody tr th {\n",
       "        vertical-align: top;\n",
       "    }\n",
       "\n",
       "    .dataframe thead th {\n",
       "        text-align: right;\n",
       "    }\n",
       "</style>\n",
       "<table border=\"1\" class=\"dataframe\">\n",
       "  <thead>\n",
       "    <tr style=\"text-align: right;\">\n",
       "      <th></th>\n",
       "      <th>x0</th>\n",
       "      <th>x1</th>\n",
       "      <th>x2</th>\n",
       "      <th>y</th>\n",
       "    </tr>\n",
       "  </thead>\n",
       "  <tbody>\n",
       "    <tr>\n",
       "      <th>0</th>\n",
       "      <td>1</td>\n",
       "      <td>-1.0</td>\n",
       "      <td>-0.5</td>\n",
       "      <td>-1.947</td>\n",
       "    </tr>\n",
       "    <tr>\n",
       "      <th>1</th>\n",
       "      <td>1</td>\n",
       "      <td>-0.5</td>\n",
       "      <td>0.0</td>\n",
       "      <td>-0.391</td>\n",
       "    </tr>\n",
       "    <tr>\n",
       "      <th>2</th>\n",
       "      <td>1</td>\n",
       "      <td>1.0</td>\n",
       "      <td>2.0</td>\n",
       "      <td>6.047</td>\n",
       "    </tr>\n",
       "    <tr>\n",
       "      <th>3</th>\n",
       "      <td>1</td>\n",
       "      <td>2.0</td>\n",
       "      <td>0.5</td>\n",
       "      <td>4.527</td>\n",
       "    </tr>\n",
       "    <tr>\n",
       "      <th>4</th>\n",
       "      <td>1</td>\n",
       "      <td>2.5</td>\n",
       "      <td>-1.5</td>\n",
       "      <td>1.287</td>\n",
       "    </tr>\n",
       "    <tr>\n",
       "      <th>5</th>\n",
       "      <td>1</td>\n",
       "      <td>0.0</td>\n",
       "      <td>-2.0</td>\n",
       "      <td>-3.451</td>\n",
       "    </tr>\n",
       "  </tbody>\n",
       "</table>\n",
       "</div>"
      ],
      "text/plain": [
       "   x0   x1   x2      y\n",
       "0   1 -1.0 -0.5 -1.947\n",
       "1   1 -0.5  0.0 -0.391\n",
       "2   1  1.0  2.0  6.047\n",
       "3   1  2.0  0.5  4.527\n",
       "4   1  2.5 -1.5  1.287\n",
       "5   1  0.0 -2.0 -3.451"
      ]
     },
     "execution_count": 37,
     "metadata": {},
     "output_type": "execute_result"
    }
   ],
   "source": [
    "x= {\"x0\":[1,1,1,1,1,1],\"x1\":[-1.0,-0.5,1.0,2.0,2.5,0.0],\"x2\":[-0.5,0.0,2.0,0.5,-1.5,-2.0],\"y\":[-1.947,-0.391,6.047,4.527,1.287,-3.451]}\n",
    "df=pd.DataFrame(x)\n",
    "df\n",
    "\n",
    "#add bias as 1,1,1 in df"
   ]
  },
  {
   "cell_type": "code",
   "execution_count": 41,
   "id": "83ba9a10",
   "metadata": {},
   "outputs": [
    {
     "data": {
      "text/plain": [
       "array({'x0': [1, 1, 1, 1, 1, 1], 'x1': [-1.0, -0.5, 1.0, 2.0, 2.5, 0.0], 'x2': [-0.5, 0.0, 2.0, 0.5, -1.5, -2.0], 'y': [-1.947, -0.391, 6.047, 4.527, 1.287, -3.451]},\n",
       "      dtype=object)"
      ]
     },
     "execution_count": 41,
     "metadata": {},
     "output_type": "execute_result"
    }
   ],
   "source": [
    "X=array(x) #wrong\n",
    "X"
   ]
  },
  {
   "cell_type": "code",
   "execution_count": 39,
   "id": "41eacbb7",
   "metadata": {},
   "outputs": [
    {
     "data": {
      "text/plain": [
       "matrix([[{'x0': [1, 1, 1, 1, 1, 1], 'x1': [-1.0, -0.5, 1.0, 2.0, 2.5, 0.0], 'x2': [-0.5, 0.0, 2.0, 0.5, -1.5, -2.0], 'y': [-1.947, -0.391, 6.047, 4.527, 1.287, -3.451]}]],\n",
       "       dtype=object)"
      ]
     },
     "execution_count": 39,
     "metadata": {},
     "output_type": "execute_result"
    }
   ],
   "source": [
    "X=np.matrix(x) #wrong\n",
    "X"
   ]
  },
  {
   "cell_type": "code",
   "execution_count": 79,
   "id": "2790f0be",
   "metadata": {},
   "outputs": [
    {
     "data": {
      "text/plain": [
       "matrix([[ 1. ,  1. ,  1. ,  1. ,  1. ,  1. ],\n",
       "        [-1. , -0.5,  1. ,  2. ,  2.5,  0. ],\n",
       "        [-0.5,  0. ,  2. ,  0.5, -1.5, -2. ]])"
      ]
     },
     "execution_count": 79,
     "metadata": {},
     "output_type": "execute_result"
    }
   ],
   "source": [
    "X=np.matrix([[1,1,1,1,1,1],[-1.0, -0.5, 1.0, 2.0, 2.5, 0.0],[-0.5,0.0,2.0,0.5,-1.5,-2.0]])\n",
    "X #ignore y "
   ]
  },
  {
   "cell_type": "markdown",
   "id": "3f769ad2",
   "metadata": {},
   "source": [
    "# a=[a0,a1,a2]"
   ]
  },
  {
   "cell_type": "code",
   "execution_count": 80,
   "id": "f7c916c2",
   "metadata": {},
   "outputs": [],
   "source": [
    "#a=((x^t*x)^-1 * x^t)y\n",
    "\n",
    "x1=X*np.transpose(X)"
   ]
  },
  {
   "cell_type": "code",
   "execution_count": 81,
   "id": "7f7f6b78",
   "metadata": {},
   "outputs": [
    {
     "data": {
      "text/plain": [
       "matrix([[ 6.  ,  4.  , -1.5 ],\n",
       "        [ 4.  , 12.5 , -0.25],\n",
       "        [-1.5 , -0.25, 10.75]])"
      ]
     },
     "execution_count": 81,
     "metadata": {},
     "output_type": "execute_result"
    }
   ],
   "source": [
    "x1\n"
   ]
  },
  {
   "cell_type": "code",
   "execution_count": 85,
   "id": "287f270f",
   "metadata": {},
   "outputs": [],
   "source": [
    "x2=np.linalg.inv(x1)"
   ]
  },
  {
   "cell_type": "code",
   "execution_count": 86,
   "id": "e2094178",
   "metadata": {},
   "outputs": [
    {
     "data": {
      "text/plain": [
       "matrix([[ 0.22063655, -0.07002053,  0.02915811],\n",
       "        [-0.07002053,  0.10225873, -0.0073922 ],\n",
       "        [ 0.02915811, -0.0073922 ,  0.09691992]])"
      ]
     },
     "execution_count": 86,
     "metadata": {},
     "output_type": "execute_result"
    }
   ],
   "source": [
    "x2"
   ]
  },
  {
   "cell_type": "code",
   "execution_count": 63,
   "id": "c0b498cf",
   "metadata": {},
   "outputs": [
    {
     "data": {
      "text/plain": [
       "numpy.matrix"
      ]
     },
     "execution_count": 63,
     "metadata": {},
     "output_type": "execute_result"
    }
   ],
   "source": [
    "x=np.matrix(x)\n",
    "type(x)"
   ]
  },
  {
   "cell_type": "code",
   "execution_count": 65,
   "id": "72617feb",
   "metadata": {},
   "outputs": [
    {
     "data": {
      "text/plain": [
       "matrix([[ 1. ,  1. ,  1. ,  1. ,  1. ,  1. ],\n",
       "        [-1. , -0.5,  1. ,  2. ,  2.5,  0. ],\n",
       "        [-0.5,  0. ,  2. ,  0.5, -1.5, -2. ]])"
      ]
     },
     "execution_count": 65,
     "metadata": {},
     "output_type": "execute_result"
    }
   ],
   "source": [
    "X"
   ]
  },
  {
   "cell_type": "code",
   "execution_count": 68,
   "id": "ad03b197",
   "metadata": {},
   "outputs": [],
   "source": [
    "x=array(x)\n",
    "X=array(X)"
   ]
  },
  {
   "cell_type": "code",
   "execution_count": 88,
   "id": "3a5a08df",
   "metadata": {},
   "outputs": [
    {
     "data": {
      "text/plain": [
       "matrix([[ 0.27607803,  0.25564682,  0.20893224,  0.09517454,  0.00184805,\n",
       "          0.16232033],\n",
       "        [-0.16858316, -0.1211499 ,  0.0174538 ,  0.13080082,  0.19671458,\n",
       "         -0.05523614],\n",
       "        [-0.01190965,  0.03285421,  0.21560575,  0.06283368, -0.13470226,\n",
       "         -0.16468172]])"
      ]
     },
     "execution_count": 88,
     "metadata": {},
     "output_type": "execute_result"
    }
   ],
   "source": [
    "x=x2*X\n",
    "x"
   ]
  },
  {
   "cell_type": "code",
   "execution_count": 90,
   "id": "789c4ea5",
   "metadata": {},
   "outputs": [
    {
     "data": {
      "text/plain": [
       "matrix([[-1.947, -0.391,  6.047,  4.527,  1.287, -3.451]])"
      ]
     },
     "execution_count": 90,
     "metadata": {},
     "output_type": "execute_result"
    }
   ],
   "source": [
    "y=np.matrix([-1.947, -0.391, 6.047, 4.527, 1.287, -3.451])\n",
    "y"
   ]
  },
  {
   "cell_type": "code",
   "execution_count": 92,
   "id": "fa276a7e",
   "metadata": {},
   "outputs": [
    {
     "data": {
      "text/plain": [
       "matrix([[-1.947],\n",
       "        [-0.391],\n",
       "        [ 6.047],\n",
       "        [ 4.527],\n",
       "        [ 1.287],\n",
       "        [-3.451]])"
      ]
     },
     "execution_count": 92,
     "metadata": {},
     "output_type": "execute_result"
    }
   ],
   "source": [
    "y.T"
   ]
  },
  {
   "cell_type": "code",
   "execution_count": 93,
   "id": "0b51c8e6",
   "metadata": {},
   "outputs": [
    {
     "data": {
      "text/plain": [
       "matrix([[0.49899754],\n",
       "        [1.51707105],\n",
       "        [1.99351294]])"
      ]
     },
     "execution_count": 93,
     "metadata": {},
     "output_type": "execute_result"
    }
   ],
   "source": [
    "a=x*y.T\n",
    "a"
   ]
  },
  {
   "cell_type": "code",
   "execution_count": 95,
   "id": "686132ea",
   "metadata": {},
   "outputs": [
    {
     "data": {
      "text/plain": [
       "matrix([[0.49899754]])"
      ]
     },
     "execution_count": 95,
     "metadata": {},
     "output_type": "execute_result"
    }
   ],
   "source": [
    "#y=b0+b1x1+b2x2\n",
    "beta_not=a[0]\n",
    "beta_not"
   ]
  },
  {
   "cell_type": "code",
   "execution_count": 98,
   "id": "a47fd783",
   "metadata": {},
   "outputs": [
    {
     "data": {
      "text/plain": [
       "matrix([[1.51707105]])"
      ]
     },
     "execution_count": 98,
     "metadata": {},
     "output_type": "execute_result"
    }
   ],
   "source": [
    "beta_one=a[1]\n",
    "beta_one"
   ]
  },
  {
   "cell_type": "code",
   "execution_count": 99,
   "id": "b48c9404",
   "metadata": {},
   "outputs": [
    {
     "data": {
      "text/plain": [
       "matrix([[1.99351294]])"
      ]
     },
     "execution_count": 99,
     "metadata": {},
     "output_type": "execute_result"
    }
   ],
   "source": [
    "betatwo=a[2]\n",
    "betatwo"
   ]
  },
  {
   "cell_type": "code",
   "execution_count": 100,
   "id": "a3d14557",
   "metadata": {},
   "outputs": [],
   "source": [
    "y_pred=beta_not+beta_one*0.5+betatwo*-1.0"
   ]
  },
  {
   "cell_type": "code",
   "execution_count": 101,
   "id": "cad43415",
   "metadata": {},
   "outputs": [
    {
     "data": {
      "text/plain": [
       "matrix([[-0.73597988]])"
      ]
     },
     "execution_count": 101,
     "metadata": {},
     "output_type": "execute_result"
    }
   ],
   "source": [
    "y_pred"
   ]
  },
  {
   "cell_type": "code",
   "execution_count": null,
   "id": "97898928",
   "metadata": {},
   "outputs": [],
   "source": []
  }
 ],
 "metadata": {
  "kernelspec": {
   "display_name": "Python 3",
   "language": "python",
   "name": "python3"
  },
  "language_info": {
   "codemirror_mode": {
    "name": "ipython",
    "version": 3
   },
   "file_extension": ".py",
   "mimetype": "text/x-python",
   "name": "python",
   "nbconvert_exporter": "python",
   "pygments_lexer": "ipython3",
   "version": "3.8.8"
  }
 },
 "nbformat": 4,
 "nbformat_minor": 5
}
